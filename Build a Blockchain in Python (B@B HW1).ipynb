{
 "cells": [
  {
   "cell_type": "code",
   "execution_count": 56,
   "metadata": {},
   "outputs": [],
   "source": [
    "#Import statements\n",
    "import hashlib as hasher \n",
    "import random as rand\n",
    "import time \n",
    "import datetime as date\n",
    "import ipyparallel as ipp\n",
    "import numpy as np\n",
    "import matplotlib.pyplot as plt\n",
    "from hashlib import sha256\n",
    "import datetime;"
   ]
  },
  {
   "cell_type": "code",
   "execution_count": 63,
   "metadata": {},
   "outputs": [],
   "source": [
    "class Block:\n",
    "    def __init__(self, index, timestamp, data, previous_hash, nonce=0):\n",
    "        self.index = index\n",
    "        self.timestamp = timestamp\n",
    "        self.data = data\n",
    "        self.nonce = nonce #set to zero as default not applicable in first section \n",
    "        self.previous_hash = previous_hash\n",
    "        self.hash = self.hash_block()\n",
    "\n",
    "    def hash_block(self):\n",
    "        if isinstance(self.timestamp, datetime.datetime):\n",
    "            time = self.timestamp.strftime(\"%d-%b-%Y %H:%M:%S.%f\")\n",
    "        else:\n",
    "            time = self.timestamp\n",
    "        to_hash = str(self.index) + time + self.data + self.previous_hash + str(self.nonce)\n",
    "        hash_string = sha256(to_hash.encode('utf-8')).hexdigest()\n",
    "        return hash_string"
   ]
  },
  {
   "cell_type": "code",
   "execution_count": 64,
   "metadata": {},
   "outputs": [
    {
     "name": "stdout",
     "output_type": "stream",
     "text": [
      "PASSED!!! Move on to next Question\n"
     ]
    }
   ],
   "source": [
    "def test_question_1(index, time, data, previous_hash):\n",
    "    new_block = Block(index, time, data, previous_hash)\n",
    "    check_string = '2def27922fc1c67254a9cdb0c660b91abf9b135ad38fc13c7c77007448b824a0'\n",
    "    print_statement = \"PASSED!!! Move on to next Question\" if str(new_block.hash) == check_string else \"FAILED!!! Try Again\"\n",
    "    print(print_statement)\n",
    "    \n",
    "time = '2019-10-17 00:37:35.256774'\n",
    "data = 'Machine Learning Blockchain AI'\n",
    "previous_hash = '6ffd1464f68ef4aeb385d399244efa19293ba5c842c464a82c02f8256ef71428'\n",
    "index = 0\n",
    "    \n",
    "test_question_1(index, time, data, previous_hash)"
   ]
  },
  {
   "cell_type": "code",
   "execution_count": 65,
   "metadata": {},
   "outputs": [],
   "source": [
    "#Creates the first block with current time and generic data\n",
    "def create_genesis_block():\n",
    "    # Manually construct a block with\n",
    "    # index zero and arbitrary previous hash\n",
    "    return Block(0, date.datetime.now().strftime(\"%d-%b-%Y %H:%M:%S.%f\"), \"Genesis Block\", \"0\")\n",
    "\n",
    "#Function that creates the next block, given the last block on the chain you want to mine on\n",
    "def next_block(last_block, nonce=0):\n",
    "    index = last_block.index + 1\n",
    "    timestamp = datetime.datetime.now()\n",
    "    data = \"Hey! I'm block \" + str(index)\n",
    "    previous_hash = last_block.hash\n",
    "    return Block(index, timestamp, data, previous_hash)"
   ]
  },
  {
   "cell_type": "code",
   "execution_count": 66,
   "metadata": {},
   "outputs": [
    {
     "name": "stdout",
     "output_type": "stream",
     "text": [
      "PASSED!!! Move on to next part\n"
     ]
    }
   ],
   "source": [
    "def test_question_2(genesis_block):\n",
    "    block_1 = next_block(genesis_block)\n",
    "    if block_1.index == 1 and block_1.data == \"Hey! I'm block 1\" and block_1.previous_hash == genesis_block.hash and str(type(block_1.timestamp)) == \"<class 'datetime.datetime'>\":\n",
    "        print(\"PASSED!!! Move on to next part\" )\n",
    "    else:\n",
    "        print(\"FAILED!!! Try again :(\")\n",
    "    \n",
    "\n",
    "genesis_block = create_genesis_block()\n",
    "test_question_2(genesis_block)"
   ]
  },
  {
   "cell_type": "code",
   "execution_count": 67,
   "metadata": {},
   "outputs": [
    {
     "name": "stdout",
     "output_type": "stream",
     "text": [
      "Block #1 has been added to the blockchain!\n",
      "Hash: 240ed5ac958e61ea8a43c8187f598ca4674f9b2ae48513ca8c4ac03709005d59\n",
      "\n",
      "Block #2 has been added to the blockchain!\n",
      "Hash: 2c83c823befcc137857c530ca0738ee052e8ec0cb7af563dcb17149af55851fc\n",
      "\n",
      "Block #3 has been added to the blockchain!\n",
      "Hash: 4594bc0f79d8dd70aff7d3b5925c62b9a28a3db808c9dbaa9f3ca80710060a82\n",
      "\n",
      "Block #4 has been added to the blockchain!\n",
      "Hash: a03a4fe56665a7efe8e64fdbed7738abedf24a14655d12fdc177fa5320103a26\n",
      "\n",
      "Block #5 has been added to the blockchain!\n",
      "Hash: 620c5dd2cbc2fedc8458ce6785249896b9836f7349bad3b4fba1fdaf80f6290a\n",
      "\n",
      "Block #6 has been added to the blockchain!\n",
      "Hash: 93da1bed41cc7fc8a32336b92564e4c3e437fb92e9aa1d6bf13849439658850e\n",
      "\n",
      "Block #7 has been added to the blockchain!\n",
      "Hash: 80a6279638ded3be9fc990ff29d4a72747b979c731c647c199ec3bd5eb20edb3\n",
      "\n",
      "Block #8 has been added to the blockchain!\n",
      "Hash: 90f8cf5f2f1c8aa0292a06f42d8ce540c6f21d3b01fcede9aef8a5a2407ac0e9\n",
      "\n",
      "Block #9 has been added to the blockchain!\n",
      "Hash: 1f5a17e7295a4aaf5048bcd22b32f9e8259d83ac7c64a7f18eab4df8d0acc89f\n",
      "\n",
      "Block #10 has been added to the blockchain!\n",
      "Hash: 45e9b6c57f50a7f78abfdf1c365ddb0028ec9262953062801aed322e86142cf0\n",
      "\n",
      "Block #11 has been added to the blockchain!\n",
      "Hash: 9ef88854628846dbf57c1ee2d47e0a5e2285ab1483774bec4daa574fb4f5134e\n",
      "\n",
      "Block #12 has been added to the blockchain!\n",
      "Hash: 9e2112f000b568cb3484268a9bb72555c6d5443cb12fc0a12b32ab1e51b23d09\n",
      "\n",
      "Block #13 has been added to the blockchain!\n",
      "Hash: 3eab1b83a74a9a0e0fdb28c6fc3a25b0da07513eac8bd606ebe5f0f5fbad9562\n",
      "\n",
      "Block #14 has been added to the blockchain!\n",
      "Hash: 03ce14b6526fa0a15371e69f100484aad02831dfe4ac146e1b774a0b181e0eed\n",
      "\n",
      "Block #15 has been added to the blockchain!\n",
      "Hash: aecbbedc62e0f1088f8ea87ce4105316dd38206c66c710ca2b53b77693ea2c1a\n",
      "\n",
      "Block #16 has been added to the blockchain!\n",
      "Hash: 0900138afad437053fbddcbcc99482396bd9647c6fed0147e31e23267ec2e1a3\n",
      "\n",
      "Block #17 has been added to the blockchain!\n",
      "Hash: 6728edce46785c10e29e488c24445780efcd582115cca9900963e8d9de9657a9\n",
      "\n",
      "Block #18 has been added to the blockchain!\n",
      "Hash: 9ae75ec79f477e102f231a2181945c31dfaa67065eb23ec3520dc7d9db6f0b75\n",
      "\n",
      "Block #19 has been added to the blockchain!\n",
      "Hash: f9cd880cb6d00380618d1129994aec3ae30e402e55ec4476eb8334d663e32929\n",
      "\n",
      "Block #20 has been added to the blockchain!\n",
      "Hash: d36b6b2302bd9dee12b2c99c09a3500edd2cceb9248af993b3a1df2ca9726f9b\n",
      "\n"
     ]
    }
   ],
   "source": [
    "# Create the blockchain and add the genesis block\n",
    "blockchain = [create_genesis_block()]\n",
    "\n",
    "#Create our initial reference to previous block which points to the genesis block\n",
    "previous_block = blockchain[0]\n",
    "\n",
    "# How many blocks should we add to the chain after the genesis block\n",
    "num_blocks = 20\n",
    "\n",
    "def complete_chain(num_blocks, blockchain, previous_block):\n",
    "    # Add blocks to the chain\n",
    "    for i in range(0, num_blocks):\n",
    "        block_to_add = next_block(previous_block)\n",
    "        blockchain.append(block_to_add)\n",
    "        previous_block = block_to_add\n",
    "        \n",
    "        # Tell everyone about it!\n",
    "        print(\"Block #{} has been added to the blockchain!\".format(block_to_add.index))\n",
    "        print(\"Hash: {}\\n\".format(block_to_add.hash))\n",
    "\n",
    "complete_chain(num_blocks, blockchain, previous_block)"
   ]
  },
  {
   "cell_type": "code",
   "execution_count": 69,
   "metadata": {},
   "outputs": [
    {
     "name": "stdout",
     "output_type": "stream",
     "text": [
      "PASSED!!! Move on to the next Part\n"
     ]
    }
   ],
   "source": [
    "def test_question_3(blockchain, num_blocks):\n",
    "    correct = True\n",
    "    if len(blockchain) != num_blocks + 1:\n",
    "        correct = False\n",
    "    for i in range(len(blockchain)-1):\n",
    "        if blockchain[i + 1].previous_hash != blockchain[i].hash:\n",
    "            correct = False\n",
    "            break\n",
    "    print_statement = \"PASSED!!! Move on to the next Part\" if correct else \"FAILED!!! Try Again :(\"\n",
    "    print(print_statement)\n",
    "\n",
    "test_question_3(blockchain, num_blocks)"
   ]
  },
  {
   "cell_type": "code",
   "execution_count": 100,
   "metadata": {},
   "outputs": [],
   "source": [
    "import time\n",
    "\n",
    "#Creates a random number with 'length' digits\n",
    "def generate_nonce(length=20):\n",
    "    return ''.join([str(rand.randint(0, 9)) for i in range(length)])\n",
    "\n",
    "#Sets magnitude of difficulty of hash - number of zeros that must be in the beginning of the hash\n",
    "def generate_difficulty_bound(difficulty=1):\n",
    "    diff_str = \"\"\n",
    "    for i in range(difficulty):\n",
    "        diff_str += '0'\n",
    "    for i in range(64 - difficulty):\n",
    "        diff_str += 'F'\n",
    "    diff_str = \"0x\" + diff_str  # \"0x\" needs to be added at the front to specify that it is a hex representation\n",
    "    return(int(diff_str, 16))  # Specifies that we want to create an integer of base 16 (as opposed to the default base 10)\n",
    "\n",
    "#Given a previous block and a difficulty metric, finds a nonce that results in a lower hash value\n",
    "def find_next_block(last_block, difficulty, nonce_length):\n",
    "    difficulty_bound = generate_difficulty_bound(difficulty)\n",
    "    start = time.process_time() \n",
    "    new_block = next_block(last_block)\n",
    "    hashes_tried = 1\n",
    "    \n",
    "    nonce = generate_nonce(nonce_length)\n",
    "\n",
    "    while int(new_block.hash, 16) > difficulty_bound: \n",
    "        hashes_tried += 1\n",
    "        new_block = next_block(last_block, int(nonce))\n",
    "        nonce = generate_nonce(nonce_length)\n",
    "         \n",
    "    time_taken = time.process_time() - start\n",
    "    return(time_taken, hashes_tried, new_block)"
   ]
  },
  {
   "cell_type": "code",
   "execution_count": 101,
   "metadata": {},
   "outputs": [
    {
     "name": "stdout",
     "output_type": "stream",
     "text": [
      "Block #1 has been added to the blockchain!\n",
      "90825 Hashes Tried!\n",
      "Time taken to find block: 4.046875\n",
      "Hash: 000092a9f7733272eda5bc7f18847f255994a2852b48def54feeb4b945046c0d\n",
      "\n",
      "Block #2 has been added to the blockchain!\n",
      "168154 Hashes Tried!\n",
      "Time taken to find block: 7.234375\n",
      "Hash: 000d1d287c525bb9a9aba3c7fbca518fe95951eff7dbba1c8e19da48d02bd49c\n",
      "\n",
      "Block #3 has been added to the blockchain!\n",
      "79517 Hashes Tried!\n",
      "Time taken to find block: 3.375\n",
      "Hash: 000f80c6919ce1be06c412bbf29bea1062238f74a9bb626aa841f0c2f309d545\n",
      "\n",
      "Block #4 has been added to the blockchain!\n",
      "132712 Hashes Tried!\n",
      "Time taken to find block: 5.5625\n",
      "Hash: 00022e1a9f0d8829f2f60f5c53b41ec2152b8c928421d0961b0689e3ad38e813\n",
      "\n",
      "Block #5 has been added to the blockchain!\n",
      "65070 Hashes Tried!\n",
      "Time taken to find block: 2.765625\n",
      "Hash: 00068f09691a96b18eb3ca9288d03d3f1a0a1666938d95366cea6e9011993828\n",
      "\n",
      "Block #6 has been added to the blockchain!\n",
      "53973 Hashes Tried!\n",
      "Time taken to find block: 2.25\n",
      "Hash: 00082f0f397455ee371dd099e305b43ecb48d0d33349cd8158b881184ef4c6bb\n",
      "\n",
      "Block #7 has been added to the blockchain!\n",
      "111316 Hashes Tried!\n",
      "Time taken to find block: 4.640625\n",
      "Hash: 000425d5c2daf5f7c734736bea05ede2bb3255ccf86dfc47d59d592842c8b467\n",
      "\n",
      "Block #8 has been added to the blockchain!\n",
      "21175 Hashes Tried!\n",
      "Time taken to find block: 0.90625\n",
      "Hash: 000849a68cd24eda7af8ede48e208c1b30caf729f6b52ef2f0520fbb7d0e305c\n",
      "\n",
      "Block #9 has been added to the blockchain!\n",
      "66451 Hashes Tried!\n",
      "Time taken to find block: 2.828125\n",
      "Hash: 000ed61cfa8fbb33787207a01734fdd49202ae8bc2dbe159a6bfdcd9039bf62f\n",
      "\n",
      "Block #10 has been added to the blockchain!\n",
      "2620 Hashes Tried!\n",
      "Time taken to find block: 0.125\n",
      "Hash: 0008cfbf9ad17d75494a2ace1383589fa5d2e31d3f39d27873f2ede3f62dba06\n",
      "\n",
      "Block #11 has been added to the blockchain!\n",
      "12534 Hashes Tried!\n",
      "Time taken to find block: 0.5625\n",
      "Hash: 000ea081d39578ea8a0600ab8568126d3d49fbebdb3ebcccbec100c24a925f5b\n",
      "\n",
      "Block #12 has been added to the blockchain!\n",
      "8692 Hashes Tried!\n",
      "Time taken to find block: 0.40625\n",
      "Hash: 000badcaeac59e167ebefccba9193d2189624ed7bd43b8c7b7b5d6d5524d7f29\n",
      "\n",
      "Block #13 has been added to the blockchain!\n",
      "52597 Hashes Tried!\n",
      "Time taken to find block: 2.34375\n",
      "Hash: 00074cf2cad3b9ab137fdcb9f63ef87954a535e83bae1fe68ee3b3a1070d54c1\n",
      "\n",
      "Block #14 has been added to the blockchain!\n",
      "249153 Hashes Tried!\n",
      "Time taken to find block: 10.71875\n",
      "Hash: 0004e4033c0a2298df78d7fe8b5eb032d7c40ad39cb85f87cfd2baffa0544263\n",
      "\n",
      "Block #15 has been added to the blockchain!\n",
      "71371 Hashes Tried!\n",
      "Time taken to find block: 3.125\n",
      "Hash: 00033c218bd0866efb556017dabe46077387c535fad5714568edf6ef80a38f98\n",
      "\n",
      "Block #16 has been added to the blockchain!\n",
      "90470 Hashes Tried!\n",
      "Time taken to find block: 3.953125\n",
      "Hash: 0004fcd20235dc1ed127e9346d86589c18d223383500e0cad9ad4503ab899018\n",
      "\n",
      "Block #17 has been added to the blockchain!\n",
      "5694 Hashes Tried!\n",
      "Time taken to find block: 0.25\n",
      "Hash: 0008e8f1b56cb40aa05a4f00a56e49214b96e03379650f8511a4636c4dabc4fa\n",
      "\n",
      "Block #18 has been added to the blockchain!\n",
      "595136 Hashes Tried!\n",
      "Time taken to find block: 25.765625\n",
      "Hash: 000d37d93df340240e553786076fa4ca9d02b3862f70d207f9d9b0538bd566f7\n",
      "\n",
      "Block #19 has been added to the blockchain!\n",
      "28933 Hashes Tried!\n",
      "Time taken to find block: 1.265625\n",
      "Hash: 000da2d0567622009596386ba2a5ea7b1bccfec715af110bd5d4c98d3cff5cf8\n",
      "\n",
      "Block #20 has been added to the blockchain!\n",
      "145932 Hashes Tried!\n",
      "Time taken to find block: 6.4375\n",
      "Hash: 00078a8d237a0504209c8f61be25d0e59901c92c0e5621daa41eacf1d95c037f\n",
      "\n"
     ]
    }
   ],
   "source": [
    "# Create the blockchain and add the genesis block\n",
    "blockchain_pow = [create_genesis_block()]\n",
    "\n",
    "#Create our initial reference to previous block which points to the genesis block\n",
    "previous_block = blockchain_pow[0]\n",
    "\n",
    "# How many blocks should we add to the chain after genesis block\n",
    "num_blocks = 20\n",
    "\n",
    "#magnitude of difficulty of hash - number of zeroes that must be in the beginning of the hash\n",
    "difficulty = 3\n",
    "\n",
    "#length of nonce that will be generated and added\n",
    "nonce_length = 20\n",
    "\n",
    "# Add blocks to the chain based on difficulty with nonces of length nonce_length\n",
    "def create_pow_blockchain(num_blocks, difficulty, blockchain_pow, previous_block, nonce_length, print_data=1):\n",
    "    hash_array = []\n",
    "    time_array = []\n",
    "    for i in range(0, num_blocks):          \n",
    "        time_taken, hashes_tried, block_to_add = find_next_block(previous_block, difficulty, nonce_length)\n",
    "        blockchain_pow.append(block_to_add)\n",
    "        previous_block = block_to_add\n",
    "        hash_array.append(hashes_tried)\n",
    "        time_array.append(time_taken)\n",
    "        # Tell everyone about it!\n",
    "        if print_data:\n",
    "            print(\"Block #{} has been added to the blockchain!\".format(block_to_add.index))\n",
    "            print(\"{} Hashes Tried!\".format(hashes_tried))\n",
    "            print(\"Time taken to find block: {}\".format(time_taken))\n",
    "            print(\"Hash: {}\\n\".format(block_to_add.hash))\n",
    "    return(hash_array, time_array)\n",
    "\n",
    "hash_array, time_array = create_pow_blockchain(num_blocks, difficulty, blockchain_pow, previous_block, nonce_length)"
   ]
  },
  {
   "cell_type": "code",
   "execution_count": 102,
   "metadata": {},
   "outputs": [
    {
     "name": "stdout",
     "output_type": "stream",
     "text": [
      "PASSED!!! Move on to the next Part\n"
     ]
    }
   ],
   "source": [
    "def test_question_4(blockchain_pow, num_blocks):\n",
    "    correct = True\n",
    "    bound = generate_difficulty_bound(difficulty)\n",
    "    if len(blockchain_pow) != num_blocks + 1:\n",
    "        correct = False\n",
    "    for i in range(len(blockchain_pow) - 1):\n",
    "        if blockchain_pow[i + 1].previous_hash != blockchain_pow[i].hash:\n",
    "            correct = False\n",
    "            break\n",
    "        if int(blockchain_pow[i + 1].hash, 16) > bound:\n",
    "            correct = False\n",
    "            break\n",
    "    print_statement = \"PASSED!!! Move on to the next Part\" if correct else \"FAILED!!! Try Again :(\"\n",
    "    print(print_statement)\n",
    "            \n",
    "test_question_4(blockchain_pow, num_blocks)"
   ]
  },
  {
   "cell_type": "code",
   "execution_count": 103,
   "metadata": {},
   "outputs": [],
   "source": [
    "#Naive miner class that races with other miners to see who can get a certain number of blocks first \n",
    "class MinerNodeNaive: \n",
    "    def __init__(self, name, compute):\n",
    "        self.name = name \n",
    "        self.compute = compute\n",
    "    \n",
    "    def try_hash(self, diff_value, chain):\n",
    "        last_block = chain[-1]\n",
    "        difficulty = generate_difficulty_bound(diff_value)\n",
    "        date_now = date.datetime.now()\n",
    "        this_index = last_block.index + 1\n",
    "        this_timestamp = date_now\n",
    "        this_data = \"Hey! I'm block \" + str(this_index)\n",
    "        this_hash = last_block.hash\n",
    "        new_block = Block(this_index, this_timestamp, this_data, this_hash)\n",
    "        if int(new_block.hash, 16) < difficulty:\n",
    "            chain.append(new_block)\n",
    "            # Tell everyone about it!\n",
    "            print(\"Block #{} has been added to the blockchain!\".format(new_block.index))\n",
    "            print(\"Block found by: {}\".format(self.name))\n",
    "            print(\"Hash: {}\\n\".format(new_block.hash))"
   ]
  },
  {
   "cell_type": "code",
   "execution_count": 104,
   "metadata": {},
   "outputs": [],
   "source": [
    "#Initialize multiple miners on the network \n",
    "berkeley_Miner = MinerNodeNaive(\"Berkeley Miner\", 10)\n",
    "stanford_Miner = MinerNodeNaive(\"Stanford Miner\", 5)\n",
    "MIT_Miner = MinerNodeNaive(\"MIT Miner\", 2)\n",
    "UCLA_Miner = MinerNodeNaive(\"UCLA Miner\", 1)\n",
    "\n",
    "miner_array = [berkeley_Miner, stanford_Miner, MIT_Miner, UCLA_Miner]"
   ]
  },
  {
   "cell_type": "code",
   "execution_count": 105,
   "metadata": {},
   "outputs": [],
   "source": [
    "def create_compute_simulation(miner_array):\n",
    "    compute_array = []\n",
    "    for miner in miner_array:\n",
    "        for i in range(miner.compute):\n",
    "            compute_array.append(miner.name)\n",
    "    return(compute_array)\n",
    "\n",
    "compute_simulation_array = create_compute_simulation(miner_array)\n",
    "rand.shuffle(compute_simulation_array)"
   ]
  },
  {
   "cell_type": "code",
   "execution_count": 106,
   "metadata": {},
   "outputs": [],
   "source": [
    "chain_length = 20\n",
    "blockchain_distributed = [create_genesis_block()]\n",
    "genesis_block_dist = blockchain_distributed[0]\n",
    "chain_difficulty = [rand.randint(2,4) for i in range(chain_length)]"
   ]
  },
  {
   "cell_type": "code",
   "execution_count": 107,
   "metadata": {},
   "outputs": [
    {
     "name": "stdout",
     "output_type": "stream",
     "text": [
      "Block #1 has been added to the blockchain!\n",
      "Block found by: Stanford Miner\n",
      "Hash: 00d04f21a9da881fba67c6bb32b0f51d554539280b243c04acb171bf02e9ff0c\n",
      "\n",
      "Block #2 has been added to the blockchain!\n",
      "Block found by: Berkeley Miner\n",
      "Hash: 007c2877890c53a56c01fe1a998c6a2565bc7d29b2cd0080b890e3d203973ea0\n",
      "\n",
      "Block #3 has been added to the blockchain!\n",
      "Block found by: Stanford Miner\n",
      "Hash: 00d192ccb1a80e205b610f3f090483a1e1f3117d96ed0d79a7432502dcf43c85\n",
      "\n",
      "Block #4 has been added to the blockchain!\n",
      "Block found by: Berkeley Miner\n",
      "Hash: 000dac73ec6e1c94d2f63ec2775c6ed641f67c4c50489849fd2cc8ed6efd0b29\n",
      "\n",
      "Block #5 has been added to the blockchain!\n",
      "Block found by: Stanford Miner\n",
      "Hash: 002ba2c7b01fbb9d5a327a05b86a21ffd14e0d4886d541498afe002c549bb340\n",
      "\n",
      "Block #6 has been added to the blockchain!\n",
      "Block found by: Berkeley Miner\n",
      "Hash: 000c1f2b75df2101a390d74f2735bcb30a9c958edf851c12dd06ae86c8951a98\n",
      "\n",
      "Block #7 has been added to the blockchain!\n",
      "Block found by: MIT Miner\n",
      "Hash: 004b6c717ec14a1a939958f8b30a890dda36c718a96be1d09304bf3d6452faae\n",
      "\n",
      "Block #8 has been added to the blockchain!\n",
      "Block found by: UCLA Miner\n",
      "Hash: 00006faf2006e82349aaaee7c28fc4dc8a0e9434801dc962e9d09b9a02d432b4\n",
      "\n",
      "Block #9 has been added to the blockchain!\n",
      "Block found by: UCLA Miner\n",
      "Hash: 0002e13011164689c95e8234da1323ff7d423f91e4417ca574577cf625be9b67\n",
      "\n",
      "Block #10 has been added to the blockchain!\n",
      "Block found by: Berkeley Miner\n",
      "Hash: 0000f86cc40636e2da19366fba4c0ee5b1ca1526c1d60ffae795728ff8d2fc7c\n",
      "\n",
      "Block #11 has been added to the blockchain!\n",
      "Block found by: Berkeley Miner\n",
      "Hash: 003f7285e82f1f04c8171d21a12d50baafc02bbff24920a90c24318292d09312\n",
      "\n",
      "Block #12 has been added to the blockchain!\n",
      "Block found by: Berkeley Miner\n",
      "Hash: 000d029262b1e96782d65813ae5902082f09e9420975390423ffa7892a2de4ea\n",
      "\n",
      "Block #13 has been added to the blockchain!\n",
      "Block found by: MIT Miner\n",
      "Hash: 000cc962a158f0f065cd1c1b2186ca944160e8ac05bd9b8c0693ab938ba12f3e\n",
      "\n",
      "Block #14 has been added to the blockchain!\n",
      "Block found by: MIT Miner\n",
      "Hash: 000bfe91009729846e24ac935ef626f7b8a823fba76830dddf11db47974f2174\n",
      "\n",
      "Block #15 has been added to the blockchain!\n",
      "Block found by: Stanford Miner\n",
      "Hash: 000037454b2dbd8bdb29784a23d13ffb3208043a2b4ba8f068699a081de39967\n",
      "\n",
      "Block #16 has been added to the blockchain!\n",
      "Block found by: Stanford Miner\n",
      "Hash: 00005cfe828b73cb93a857b0dc4a8bf821b6d004f2dde9d5af35731027514d5a\n",
      "\n",
      "Block #17 has been added to the blockchain!\n",
      "Block found by: Stanford Miner\n",
      "Hash: 0000e49224df47157d55e5c741fe24c0d424c2ffeb40f43abd77e868843dde36\n",
      "\n",
      "Block #18 has been added to the blockchain!\n",
      "Block found by: Berkeley Miner\n",
      "Hash: 003aa1bf258f6164d3b9dd47954836dc89c036cba1ad01c3f6f98549825efd63\n",
      "\n",
      "Block #19 has been added to the blockchain!\n",
      "Block found by: Stanford Miner\n",
      "Hash: 00f0ea423350b88046e79fd6c881bba1770f977f6452413f44b48ef489b3fd0a\n",
      "\n"
     ]
    },
    {
     "ename": "KeyboardInterrupt",
     "evalue": "",
     "output_type": "error",
     "traceback": [
      "\u001b[1;31m---------------------------------------------------------------------------\u001b[0m",
      "\u001b[1;31mKeyboardInterrupt\u001b[0m                         Traceback (most recent call last)",
      "\u001b[1;32m<ipython-input-107-c7df161fcbf0>\u001b[0m in \u001b[0;36m<module>\u001b[1;34m\u001b[0m\n\u001b[0;32m      6\u001b[0m             \u001b[1;32mif\u001b[0m \u001b[0mnext_miner_str\u001b[0m \u001b[1;33m==\u001b[0m \u001b[0mminer\u001b[0m\u001b[1;33m.\u001b[0m\u001b[0mname\u001b[0m\u001b[1;33m:\u001b[0m\u001b[1;33m\u001b[0m\u001b[1;33m\u001b[0m\u001b[0m\n\u001b[0;32m      7\u001b[0m                 \u001b[0mnext_miner\u001b[0m \u001b[1;33m=\u001b[0m \u001b[0mminer\u001b[0m\u001b[1;33m\u001b[0m\u001b[1;33m\u001b[0m\u001b[0m\n\u001b[1;32m----> 8\u001b[1;33m         \u001b[0mnext_miner\u001b[0m\u001b[1;33m.\u001b[0m\u001b[0mtry_hash\u001b[0m\u001b[1;33m(\u001b[0m\u001b[0mchain_difficulty\u001b[0m\u001b[1;33m[\u001b[0m\u001b[0mi\u001b[0m\u001b[1;33m]\u001b[0m\u001b[1;33m,\u001b[0m \u001b[0mblockchain_distributed\u001b[0m\u001b[1;33m)\u001b[0m\u001b[1;33m\u001b[0m\u001b[1;33m\u001b[0m\u001b[0m\n\u001b[0m",
      "\u001b[1;32m<ipython-input-103-a01c2d5eb199>\u001b[0m in \u001b[0;36mtry_hash\u001b[1;34m(self, diff_value, chain)\u001b[0m\n\u001b[0;32m     13\u001b[0m         \u001b[0mthis_data\u001b[0m \u001b[1;33m=\u001b[0m \u001b[1;34m\"Hey! I'm block \"\u001b[0m \u001b[1;33m+\u001b[0m \u001b[0mstr\u001b[0m\u001b[1;33m(\u001b[0m\u001b[0mthis_index\u001b[0m\u001b[1;33m)\u001b[0m\u001b[1;33m\u001b[0m\u001b[1;33m\u001b[0m\u001b[0m\n\u001b[0;32m     14\u001b[0m         \u001b[0mthis_hash\u001b[0m \u001b[1;33m=\u001b[0m \u001b[0mlast_block\u001b[0m\u001b[1;33m.\u001b[0m\u001b[0mhash\u001b[0m\u001b[1;33m\u001b[0m\u001b[1;33m\u001b[0m\u001b[0m\n\u001b[1;32m---> 15\u001b[1;33m         \u001b[0mnew_block\u001b[0m \u001b[1;33m=\u001b[0m \u001b[0mBlock\u001b[0m\u001b[1;33m(\u001b[0m\u001b[0mthis_index\u001b[0m\u001b[1;33m,\u001b[0m \u001b[0mthis_timestamp\u001b[0m\u001b[1;33m,\u001b[0m \u001b[0mthis_data\u001b[0m\u001b[1;33m,\u001b[0m \u001b[0mthis_hash\u001b[0m\u001b[1;33m)\u001b[0m\u001b[1;33m\u001b[0m\u001b[1;33m\u001b[0m\u001b[0m\n\u001b[0m\u001b[0;32m     16\u001b[0m         \u001b[1;32mif\u001b[0m \u001b[0mint\u001b[0m\u001b[1;33m(\u001b[0m\u001b[0mnew_block\u001b[0m\u001b[1;33m.\u001b[0m\u001b[0mhash\u001b[0m\u001b[1;33m,\u001b[0m \u001b[1;36m16\u001b[0m\u001b[1;33m)\u001b[0m \u001b[1;33m<\u001b[0m \u001b[0mdifficulty\u001b[0m\u001b[1;33m:\u001b[0m\u001b[1;33m\u001b[0m\u001b[1;33m\u001b[0m\u001b[0m\n\u001b[0;32m     17\u001b[0m             \u001b[0mchain\u001b[0m\u001b[1;33m.\u001b[0m\u001b[0mappend\u001b[0m\u001b[1;33m(\u001b[0m\u001b[0mnew_block\u001b[0m\u001b[1;33m)\u001b[0m\u001b[1;33m\u001b[0m\u001b[1;33m\u001b[0m\u001b[0m\n",
      "\u001b[1;32m<ipython-input-63-2adeaac353a3>\u001b[0m in \u001b[0;36m__init__\u001b[1;34m(self, index, timestamp, data, previous_hash, nonce)\u001b[0m\n\u001b[0;32m      6\u001b[0m         \u001b[0mself\u001b[0m\u001b[1;33m.\u001b[0m\u001b[0mnonce\u001b[0m \u001b[1;33m=\u001b[0m \u001b[0mnonce\u001b[0m \u001b[1;31m#set to zero as default not applicable in first section\u001b[0m\u001b[1;33m\u001b[0m\u001b[1;33m\u001b[0m\u001b[0m\n\u001b[0;32m      7\u001b[0m         \u001b[0mself\u001b[0m\u001b[1;33m.\u001b[0m\u001b[0mprevious_hash\u001b[0m \u001b[1;33m=\u001b[0m \u001b[0mprevious_hash\u001b[0m\u001b[1;33m\u001b[0m\u001b[1;33m\u001b[0m\u001b[0m\n\u001b[1;32m----> 8\u001b[1;33m         \u001b[0mself\u001b[0m\u001b[1;33m.\u001b[0m\u001b[0mhash\u001b[0m \u001b[1;33m=\u001b[0m \u001b[0mself\u001b[0m\u001b[1;33m.\u001b[0m\u001b[0mhash_block\u001b[0m\u001b[1;33m(\u001b[0m\u001b[1;33m)\u001b[0m\u001b[1;33m\u001b[0m\u001b[1;33m\u001b[0m\u001b[0m\n\u001b[0m\u001b[0;32m      9\u001b[0m \u001b[1;33m\u001b[0m\u001b[0m\n\u001b[0;32m     10\u001b[0m     \u001b[1;32mdef\u001b[0m \u001b[0mhash_block\u001b[0m\u001b[1;33m(\u001b[0m\u001b[0mself\u001b[0m\u001b[1;33m)\u001b[0m\u001b[1;33m:\u001b[0m\u001b[1;33m\u001b[0m\u001b[1;33m\u001b[0m\u001b[0m\n",
      "\u001b[1;32m<ipython-input-63-2adeaac353a3>\u001b[0m in \u001b[0;36mhash_block\u001b[1;34m(self)\u001b[0m\n\u001b[0;32m     13\u001b[0m         \u001b[1;32melse\u001b[0m\u001b[1;33m:\u001b[0m\u001b[1;33m\u001b[0m\u001b[1;33m\u001b[0m\u001b[0m\n\u001b[0;32m     14\u001b[0m             \u001b[0mtime\u001b[0m \u001b[1;33m=\u001b[0m \u001b[0mself\u001b[0m\u001b[1;33m.\u001b[0m\u001b[0mtimestamp\u001b[0m\u001b[1;33m\u001b[0m\u001b[1;33m\u001b[0m\u001b[0m\n\u001b[1;32m---> 15\u001b[1;33m         \u001b[0mto_hash\u001b[0m \u001b[1;33m=\u001b[0m \u001b[0mstr\u001b[0m\u001b[1;33m(\u001b[0m\u001b[0mself\u001b[0m\u001b[1;33m.\u001b[0m\u001b[0mindex\u001b[0m\u001b[1;33m)\u001b[0m \u001b[1;33m+\u001b[0m \u001b[0mtime\u001b[0m \u001b[1;33m+\u001b[0m \u001b[0mself\u001b[0m\u001b[1;33m.\u001b[0m\u001b[0mdata\u001b[0m \u001b[1;33m+\u001b[0m \u001b[0mself\u001b[0m\u001b[1;33m.\u001b[0m\u001b[0mprevious_hash\u001b[0m \u001b[1;33m+\u001b[0m \u001b[0mstr\u001b[0m\u001b[1;33m(\u001b[0m\u001b[0mself\u001b[0m\u001b[1;33m.\u001b[0m\u001b[0mnonce\u001b[0m\u001b[1;33m)\u001b[0m\u001b[1;33m\u001b[0m\u001b[1;33m\u001b[0m\u001b[0m\n\u001b[0m\u001b[0;32m     16\u001b[0m         \u001b[0mhash_string\u001b[0m \u001b[1;33m=\u001b[0m \u001b[0msha256\u001b[0m\u001b[1;33m(\u001b[0m\u001b[0mto_hash\u001b[0m\u001b[1;33m.\u001b[0m\u001b[0mencode\u001b[0m\u001b[1;33m(\u001b[0m\u001b[1;34m'utf-8'\u001b[0m\u001b[1;33m)\u001b[0m\u001b[1;33m)\u001b[0m\u001b[1;33m.\u001b[0m\u001b[0mhexdigest\u001b[0m\u001b[1;33m(\u001b[0m\u001b[1;33m)\u001b[0m\u001b[1;33m\u001b[0m\u001b[1;33m\u001b[0m\u001b[0m\n\u001b[0;32m     17\u001b[0m         \u001b[1;32mreturn\u001b[0m \u001b[0mhash_string\u001b[0m\u001b[1;33m\u001b[0m\u001b[1;33m\u001b[0m\u001b[0m\n",
      "\u001b[1;31mKeyboardInterrupt\u001b[0m: "
     ]
    }
   ],
   "source": [
    "for i in range(len(chain_difficulty)): \n",
    "    while len(blockchain_distributed) < i + 2:\n",
    "        next_miner_str = rand.sample(compute_simulation_array, 1)[0] \n",
    "        next_miner = berkeley_Miner #random default (go bears)\n",
    "        for miner in miner_array:\n",
    "            if next_miner_str == miner.name:\n",
    "                next_miner = miner\n",
    "        next_miner.try_hash(chain_difficulty[i], blockchain_distributed)"
   ]
  },
  {
   "cell_type": "code",
   "execution_count": 108,
   "metadata": {},
   "outputs": [
    {
     "name": "stdout",
     "output_type": "stream",
     "text": [
      "Difficulty Level: 1 complete\n",
      "Difficulty Level: 2 complete\n",
      "Difficulty Level: 3 complete\n",
      "Difficulty Level: 4 complete\n"
     ]
    }
   ],
   "source": [
    "blockchain = [create_genesis_block()]\n",
    "previous_block = blockchain[0]\n",
    "num_blocks = 10\n",
    "\n",
    "#3 different types of difficulty to analyze\n",
    "difficulty_0 = 1\n",
    "difficulty_1 = 2\n",
    "difficulty_2 = 3\n",
    "difficulty_3 = 4\n",
    "\n",
    "nonce_length = 20\n",
    "\n",
    "hash_array_0, time_array_0 = create_pow_blockchain(num_blocks, difficulty_0, blockchain, previous_block, nonce_length, 0)\n",
    "print(\"Difficulty Level: {} complete\".format(difficulty_0))\n",
    "hash_array_1, time_array_1 = create_pow_blockchain(num_blocks, difficulty_1, blockchain, previous_block, nonce_length, 0)\n",
    "print(\"Difficulty Level: {} complete\".format(difficulty_1))\n",
    "hash_array_2, time_array_2 = create_pow_blockchain(num_blocks, difficulty_2, blockchain, previous_block, nonce_length, 0)\n",
    "print(\"Difficulty Level: {} complete\".format(difficulty_2))\n",
    "hash_array_3, time_array_3 = create_pow_blockchain(num_blocks, difficulty_3, blockchain, previous_block, nonce_length, 0)\n",
    "print(\"Difficulty Level: {} complete\".format(difficulty_3))"
   ]
  },
  {
   "cell_type": "code",
   "execution_count": 109,
   "metadata": {},
   "outputs": [],
   "source": [
    "mean_arr_hash = [np.mean(hash_array_0), np.mean(hash_array_1), np.mean(hash_array_2), np.mean(hash_array_3)]\n",
    "mean_arr_time = [np.mean(time_array_0), np.mean(time_array_1), np.mean(time_array_2), np.mean(time_array_3)]"
   ]
  },
  {
   "cell_type": "code",
   "execution_count": 111,
   "metadata": {},
   "outputs": [
    {
     "data": {
      "image/png": "[encoded data removed]",
      "text/plain": [
       "<Figure size 432x288 with 1 Axes>"
      ]
     },
     "metadata": {
      "needs_background": "light"
     },
     "output_type": "display_data"
    }
   ],
   "source": [
    "plt.plot(mean_arr_hash)\n",
    "plt.show()"
   ]
  },
  {
   "cell_type": "code",
   "execution_count": 110,
   "metadata": {},
   "outputs": [
    {
     "data": {
      "image/png": "[encoded data removed]",
      "text/plain": [
       "<Figure size 432x288 with 1 Axes>"
      ]
     },
     "metadata": {
      "needs_background": "light"
     },
     "output_type": "display_data"
    }
   ],
   "source": [
    "plt.plot(mean_arr_time)\n",
    "plt.show()"
   ]
  },
  {
   "cell_type": "code",
   "execution_count": 112,
   "metadata": {},
   "outputs": [
    {
     "name": "stdout",
     "output_type": "stream",
     "text": [
      "Factor of difficulty increase from 1 to 2: 15.475342465753425\n",
      "Factor of difficulty increase from 2 to 3: 28.41220382992535\n",
      "Factor of difficulty increase from 3 to 4: 14.439316743481792\n"
     ]
    }
   ],
   "source": [
    "diff_factor_1 = np.mean(hash_array_1)/np.mean(hash_array_0)\n",
    "diff_factor_2 = np.mean(hash_array_2)/np.mean(hash_array_1)\n",
    "diff_factor_3 = np.mean(hash_array_3)/np.mean(hash_array_2)\n",
    "print(\"Factor of difficulty increase from 1 to 2: {}\".format(diff_factor_1))\n",
    "print(\"Factor of difficulty increase from 2 to 3: {}\".format(diff_factor_2))\n",
    "print(\"Factor of difficulty increase from 3 to 4: {}\".format(diff_factor_3))"
   ]
  },
  {
   "cell_type": "code",
   "execution_count": null,
   "metadata": {},
   "outputs": [],
   "source": []
  }
 ],
 "metadata": {
  "kernelspec": {
   "display_name": "Python 3",
   "language": "python",
   "name": "python3"
  },
  "language_info": {
   "codemirror_mode": {
    "name": "ipython",
    "version": 3
   },
   "file_extension": ".py",
   "mimetype": "text/x-python",
   "name": "python",
   "nbconvert_exporter": "python",
   "pygments_lexer": "ipython3",
   "version": "3.7.10"
  }
 },
 "nbformat": 4,
 "nbformat_minor": 2
}
